{
 "metadata": {
  "language_info": {
   "codemirror_mode": {
    "name": "ipython",
    "version": 3
   },
   "file_extension": ".py",
   "mimetype": "text/x-python",
   "name": "python",
   "nbconvert_exporter": "python",
   "pygments_lexer": "ipython3",
   "version": "3.8.3-final"
  },
  "orig_nbformat": 2,
  "kernelspec": {
   "name": "python3",
   "display_name": "Python 3.8.3 64-bit (conda)",
   "metadata": {
    "interpreter": {
     "hash": "b3ba2566441a7c06988d0923437866b63cedc61552a5af99d1f4fb67d367b25f"
    }
   }
  }
 },
 "nbformat": 4,
 "nbformat_minor": 2,
 "cells": [
  {
   "cell_type": "code",
   "execution_count": null,
   "metadata": {},
   "outputs": [],
   "source": [
    "from sklearn.cluster import KMeans\n",
    "import numpy as np\n",
    "import matplotlib.pyplot as plt"
   ]
  },
  {
   "source": [
    "Инициализация необходимых констант"
   ],
   "cell_type": "markdown",
   "metadata": {}
  },
  {
   "cell_type": "code",
   "execution_count": null,
   "metadata": {},
   "outputs": [],
   "source": [
    "in_one_group = 200       # Колиество точек в одной группе\n",
    "group_emount = 4         # Количество групп\n",
    "clusters_emount = 8      # Количество кластеров\n",
    "radius = 40              # Радиус кругов с генерируемыми точками \n",
    "dot_size = 10             # Размер точек\n",
    "\n",
    "# Границы проскости\n",
    "plot_min = 0\n",
    "plot_max = 100\n",
    "\n",
    "# Массив с цветами для визуализации\n",
    "colors=[\"#0000FF\", \"#00FF00\", \"#FF0000\", \"#FFFF00\", \"#00FFFF\", \"#FF00FF\", \"#999999\", \"#555555\", \"#111111\"]"
   ]
  },
  {
   "cell_type": "code",
   "execution_count": null,
   "metadata": {},
   "outputs": [],
   "source": [
    "centre = (np.random.randint(low=radius / 3, high=plot_max - radius / 3), np.random.randint(low=radius / 3, high=plot_max - radius / 3))\n",
    "all_points = np.random.normal(loc=centre, scale=radius / 6, size=(in_one_group, 2))\n",
    "\n",
    "for i in range(group_emount - 1):\n",
    "    centre = (np.random.randint(low=radius / 3, high = plot_max - radius / 3), np.random.randint(low=radius / 3, high=plot_max - radius / 3))\n",
    "    all_points = np.append(all_points, np.random.normal(loc=centre, scale=radius / 6, size=(in_one_group, 2)), axis=0)"
   ]
  },
  {
   "cell_type": "code",
   "execution_count": null,
   "metadata": {},
   "outputs": [],
   "source": [
    "fig = plt.figure(figsize=(6,6))\n",
    "ax = plt.axes(xlim=(plot_min, plot_max), ylim=(plot_min, plot_max))\n",
    "\n",
    "plt.scatter(all_points[:,0], all_points[:,1], s=dot_size)\n",
    "plt.show()"
   ]
  },
  {
   "cell_type": "code",
   "execution_count": null,
   "metadata": {},
   "outputs": [],
   "source": [
    "kmeans = KMeans(n_clusters = clusters_emount, random_state=0)\n",
    "labels = kmeans.fit_predict(all_points)"
   ]
  },
  {
   "cell_type": "code",
   "execution_count": null,
   "metadata": {},
   "outputs": [],
   "source": [
    "fig = plt.figure(figsize=(6,6))\n",
    "ax = plt.axes(xlim=(plot_min, plot_max), ylim=(plot_min, plot_max))\n",
    "\n",
    "for p in range(len(all_points)):\n",
    "    plt.scatter(all_points[p][0], all_points[p][1], color=colors[labels[p]], s=dot_size)\n",
    "\n",
    "plt.scatter(kmeans.cluster_centers_[:, 0], kmeans.cluster_centers_[:, 1], color=\"#111111\")\n",
    "plt.show()"
   ]
  },
  {
   "cell_type": "code",
   "execution_count": null,
   "metadata": {},
   "outputs": [],
   "source": []
  }
 ]
}